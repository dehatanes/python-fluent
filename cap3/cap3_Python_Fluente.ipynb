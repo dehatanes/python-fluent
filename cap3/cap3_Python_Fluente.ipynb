{
  "nbformat": 4,
  "nbformat_minor": 0,
  "metadata": {
    "colab": {
      "name": "cap3 - Python Fluente.ipynb",
      "provenance": []
    },
    "kernelspec": {
      "name": "python3",
      "display_name": "Python 3"
    }
  },
  "cells": [
    {
      "cell_type": "markdown",
      "metadata": {
        "id": "caZTdT-Z1Egn",
        "colab_type": "text"
      },
      "source": [
        "# Dicionários e conjuntos"
      ]
    },
    {
      "cell_type": "markdown",
      "metadata": {
        "id": "OXNKqug70pBu",
        "colab_type": "text"
      },
      "source": [
        "## Hashable\n",
        "Um objeto é hashable se tiver um valor de hash (método \\_\\_hash\\_\\_() implementado) que nunca mude durante seu tempo de vida e puder ser comparado (método \\_\\_eq\\_\\_() implementado) com outros objetos. Objetos hashable iguais devem ter o mesmo valor de hash.\n",
        "\n",
        "Obs: A maioria dos objetos embutidos imutáveis do Python são hasheáveis;  containers imutáveis (tais como tuplas e frozensets) são hasheáveis apenas se os seus elementos são hasheáveis. Objetos que são instâncias de classes definidas pelo usuário são hasheáveis por padrão. \n",
        "Todos eles comparam de forma desigual (exceto entre si mesmos), e o seu valor hash é derivado a partir do seu id().\n",
        "1) https://docs.python.org/3/glossary.html#term-hashable \n",
        "\n",
        "\n",
        "Enquanto estávamos estudando ficamos em dúvida em relação ao _hash_, _id_, _hash(id)_ de um objeto. Alguns links que pode nos ajudar a entender isso:\n",
        "\n",
        "1. https://stackoverflow.com/questions/11324271/what-is-the-default-hash-in-python\n",
        "\n",
        "1. https://stackoverflow.com/questions/49722196/how-does-python-compute-the-hash-of-a-tuple\n",
        "\n",
        "1. https://github.com/python/cpython/blob/master/Python/pyhash.c\n",
        "\n",
        "\n",
        "\n"
      ]
    },
    {
      "cell_type": "code",
      "metadata": {
        "id": "ZeaCwF-P0lwu",
        "colab_type": "code",
        "colab": {
          "base_uri": "https://localhost:8080/",
          "height": 34
        },
        "outputId": "fd485183-33e1-4a5f-cf01-7089e58091d0"
      },
      "source": [
        "tt = (1, 2, (30, 40))\n",
        "hash(tt)"
      ],
      "execution_count": 27,
      "outputs": [
        {
          "output_type": "execute_result",
          "data": {
            "text/plain": [
              "8027212646858338501"
            ]
          },
          "metadata": {
            "tags": []
          },
          "execution_count": 27
        }
      ]
    },
    {
      "cell_type": "code",
      "metadata": {
        "id": "K6Fun14j1QSe",
        "colab_type": "code",
        "colab": {
          "base_uri": "https://localhost:8080/",
          "height": 180
        },
        "outputId": "806af9ff-5ead-4742-fd58-561263e11d05"
      },
      "source": [
        "tl = (1, 2, [30, 40])\n",
        "hash(tl)"
      ],
      "execution_count": 28,
      "outputs": [
        {
          "output_type": "error",
          "ename": "TypeError",
          "evalue": "ignored",
          "traceback": [
            "\u001b[0;31m---------------------------------------------------------------------------\u001b[0m",
            "\u001b[0;31mTypeError\u001b[0m                                 Traceback (most recent call last)",
            "\u001b[0;32m<ipython-input-28-258d676ca6dc>\u001b[0m in \u001b[0;36m<module>\u001b[0;34m()\u001b[0m\n\u001b[1;32m      1\u001b[0m \u001b[0mtl\u001b[0m \u001b[0;34m=\u001b[0m \u001b[0;34m(\u001b[0m\u001b[0;36m1\u001b[0m\u001b[0;34m,\u001b[0m \u001b[0;36m2\u001b[0m\u001b[0;34m,\u001b[0m \u001b[0;34m[\u001b[0m\u001b[0;36m30\u001b[0m\u001b[0;34m,\u001b[0m \u001b[0;36m40\u001b[0m\u001b[0;34m]\u001b[0m\u001b[0;34m)\u001b[0m\u001b[0;34m\u001b[0m\u001b[0;34m\u001b[0m\u001b[0m\n\u001b[0;32m----> 2\u001b[0;31m \u001b[0mhash\u001b[0m\u001b[0;34m(\u001b[0m\u001b[0mtl\u001b[0m\u001b[0;34m)\u001b[0m\u001b[0;34m\u001b[0m\u001b[0;34m\u001b[0m\u001b[0m\n\u001b[0m",
            "\u001b[0;31mTypeError\u001b[0m: unhashable type: 'list'"
          ]
        }
      ]
    },
    {
      "cell_type": "code",
      "metadata": {
        "id": "AaL2Mj9b1V8r",
        "colab_type": "code",
        "colab": {
          "base_uri": "https://localhost:8080/",
          "height": 34
        },
        "outputId": "303d947a-8cf0-4b3c-c71a-766de783595c"
      },
      "source": [
        "tf = (1, 2, frozenset([30, 40]))\n",
        "hash(tf)"
      ],
      "execution_count": 29,
      "outputs": [
        {
          "output_type": "execute_result",
          "data": {
            "text/plain": [
              "985328935373711578"
            ]
          },
          "metadata": {
            "tags": []
          },
          "execution_count": 29
        }
      ]
    },
    {
      "cell_type": "code",
      "metadata": {
        "id": "PGP0M0IXCDSp",
        "colab_type": "code",
        "colab": {
          "base_uri": "https://localhost:8080/",
          "height": 102
        },
        "outputId": "f66c87b6-1ff2-48ab-c078-1cc3ca32d0ae"
      },
      "source": [
        "class MinhaClasse():\n",
        "  def __init__(self, a=10):\n",
        "    self.a = a\n",
        "  \n",
        "  def __repr__(self):\n",
        "    return f\"{self.a} no objeto {id(self)}\"\n",
        "\n",
        "mc1 = MinhaClasse(a=10)\n",
        "#print(mc1)\n",
        "#print(hash(mc1))\n",
        "\n",
        "mc2 = MinhaClasse(a=20)\n",
        "#print(mc2)\n",
        "#print(hash(mc2))\n",
        "\n",
        "mc3 = MinhaClasse(a=[1, 2, 3])\n",
        "print(id(mc3))\n",
        "print(hash(id(mc3)))\n",
        "print(hash(mc3))\n",
        "print(repr(mc3))\n",
        "print(mc3)"
      ],
      "execution_count": 54,
      "outputs": [
        {
          "output_type": "stream",
          "text": [
            "139716397530024\n",
            "139716397530024\n",
            "-9223363304579930182\n",
            "[1, 2, 3] no objeto 139716397530024\n",
            "[1, 2, 3] no objeto 139716397530024\n"
          ],
          "name": "stdout"
        }
      ]
    },
    {
      "cell_type": "code",
      "metadata": {
        "id": "OKKYLq7aDCdP",
        "colab_type": "code",
        "colab": {
          "base_uri": "https://localhost:8080/",
          "height": 68
        },
        "outputId": "93fe77bd-3446-4337-fbba-2c07bb04615c"
      },
      "source": [
        "a = f\"abcde\"\n",
        "print(type(a))\n",
        "print(hash(a))\n",
        "print(id(a))"
      ],
      "execution_count": 47,
      "outputs": [
        {
          "output_type": "stream",
          "text": [
            "<class 'str'>\n",
            "5670354481410751304\n",
            "139716396819208\n"
          ],
          "name": "stdout"
        }
      ]
    },
    {
      "cell_type": "markdown",
      "metadata": {
        "id": "g1anh6085F4j",
        "colab_type": "text"
      },
      "source": [
        "### Rapidinho: o que é um frozenset\n",
        "O que é e pra que serve?\n",
        "\n",
        "A set object is an unordered collection of distinct hashable objects. Common uses include membership testing, removing duplicates from a sequence, and computing mathematical operations such as intersection, union, difference, and symmetric difference.\n",
        "\n",
        "1) https://docs.python.org/3/library/stdtypes.html#set-types-set-frozenset\n",
        "\n",
        "2) ordem de sets unordered https://stackoverflow.com/questions/12165200/order-of-unordered-python-sets\n",
        "\n"
      ]
    },
    {
      "cell_type": "code",
      "metadata": {
        "id": "NQAlbhafDqbU",
        "colab_type": "code",
        "colab": {
          "base_uri": "https://localhost:8080/",
          "height": 34
        },
        "outputId": "aa10da38-fb6d-4810-b477-652b2d8a3072"
      },
      "source": [
        "s = set([3, 2, 4, 1, 'abc', mc1, mc2, mc3])\n",
        "print(s)"
      ],
      "execution_count": 55,
      "outputs": [
        {
          "output_type": "stream",
          "text": [
            "{1, 2, 3, 4, 10 no objeto 139716397530808, 'abc', 20 no objeto 139716397529968, [1, 2, 3] no objeto 139716397530024}\n"
          ],
          "name": "stdout"
        }
      ]
    },
    {
      "cell_type": "code",
      "metadata": {
        "id": "GwdTUP1f1k_k",
        "colab_type": "code",
        "colab": {
          "base_uri": "https://localhost:8080/",
          "height": 102
        },
        "outputId": "b08590a4-4b7f-4741-e3da-0d9f5ea56bf5"
      },
      "source": [
        "a = frozenset([1, 2])\n",
        "print(a)\n",
        "print(len(a))\n",
        "for item in a:\n",
        "  print(f\"{item} dentro do frozenset\")\n",
        "if 1 in a:\n",
        "  print(\"Tá dentro\")\n",
        "\n",
        "for item in a:\n",
        "  print(f\"{item} dentro do frozenset\")"
      ],
      "execution_count": 56,
      "outputs": [
        {
          "output_type": "stream",
          "text": [
            "frozenset({1, 2})\n",
            "2\n",
            "Tá dentro\n",
            "1 dentro do frozenset\n",
            "2 dentro do frozenset\n"
          ],
          "name": "stdout"
        }
      ]
    },
    {
      "cell_type": "code",
      "metadata": {
        "id": "SILmiG7l6B4f",
        "colab_type": "code",
        "colab": {
          "base_uri": "https://localhost:8080/",
          "height": 51
        },
        "outputId": "83b65fda-0208-4dc0-9dae-1a3891484feb"
      },
      "source": [
        "b = frozenset([1, 2, 3, 4, 5])\n",
        "print(b < a)\n",
        "print(b > a)"
      ],
      "execution_count": 57,
      "outputs": [
        {
          "output_type": "stream",
          "text": [
            "False\n",
            "True\n"
          ],
          "name": "stdout"
        }
      ]
    },
    {
      "cell_type": "code",
      "metadata": {
        "id": "u3kCYXTE6w_l",
        "colab_type": "code",
        "colab": {
          "base_uri": "https://localhost:8080/",
          "height": 85
        },
        "outputId": "45d1f55a-9957-4742-84fe-2964a165d4f3"
      },
      "source": [
        "c = frozenset([1, 5, 6, 7])\n",
        "print(c)\n",
        "\n",
        "print(a.union(c))\n",
        "\n",
        "print(a)\n",
        "print(c)"
      ],
      "execution_count": 30,
      "outputs": [
        {
          "output_type": "stream",
          "text": [
            "frozenset({1, 5, 6, 7})\n",
            "frozenset({1, 2, 5, 6, 7})\n",
            "frozenset({1, 2})\n",
            "frozenset({1, 5, 6, 7})\n"
          ],
          "name": "stdout"
        }
      ]
    },
    {
      "cell_type": "code",
      "metadata": {
        "id": "JOemBto77OhF",
        "colab_type": "code",
        "colab": {
          "base_uri": "https://localhost:8080/",
          "height": 34
        },
        "outputId": "75ddce87-78e6-4190-ce11-8753fb73c5b7"
      },
      "source": [
        "hash(c)"
      ],
      "execution_count": 33,
      "outputs": [
        {
          "output_type": "execute_result",
          "data": {
            "text/plain": [
              "-5809485022134541148"
            ]
          },
          "metadata": {
            "tags": []
          },
          "execution_count": 33
        }
      ]
    },
    {
      "cell_type": "markdown",
      "metadata": {
        "id": "puW0z1CC1gJa",
        "colab_type": "text"
      },
      "source": [
        "## Dict comprehensions"
      ]
    },
    {
      "cell_type": "code",
      "metadata": {
        "id": "cpZNCEcdPmnY",
        "colab_type": "code",
        "colab": {
          "base_uri": "https://localhost:8080/",
          "height": 136
        },
        "outputId": "0a99981b-61dd-41ba-8bd0-09e71eb4b11e"
      },
      "source": [
        "# BEGIN DIALCODES\n",
        "# dial codes of the top 10 most populous countries\n",
        "DIAL_CODES = [\n",
        "        (86, 'China'),\n",
        "        (91, 'India'),\n",
        "        (1, 'United States'),\n",
        "        (62, 'Indonesia'),\n",
        "        (55, 'Brazil'),\n",
        "        (92, 'Pakistan'),\n",
        "        (880, 'Bangladesh'),\n",
        "        (234, 'Nigeria'),\n",
        "        (7, 'Russia'),\n",
        "        (81, 'Japan'),\n",
        "    ]\n",
        "\n",
        "d1 = dict(DIAL_CODES)  # <1>\n",
        "print('d1:', d1.keys())\n",
        "d2 = dict(sorted(DIAL_CODES))  # <2>\n",
        "print('d2:', d2.keys())\n",
        "d3 = dict(sorted(DIAL_CODES, key=lambda x:x[1]))  # <3>\n",
        "print('d3:', d3.keys())\n",
        "assert d1 == d2 and d2 == d3  # <4>\n",
        "\n",
        "print(d1 == d2)\n",
        "print(d2 == d3)\n",
        "print(d1)\n",
        "print(d2)\n",
        "# END DIALCODES\n",
        "\n",
        "# # BEGIN DIALCODES_OUTPUT\n",
        "# d1: dict_keys([880, 1, 86, 55, 7, 234, 91, 92, 62, 81])\n",
        "# d2: dict_keys([880, 1, 91, 86, 81, 55, 234, 7, 92, 62])\n",
        "# d3: dict_keys([880, 81, 1, 86, 55, 7, 234, 91, 92, 62])\n",
        "# # END DIALCODES_OUTPUT\n",
        "\n"
      ],
      "execution_count": 61,
      "outputs": [
        {
          "output_type": "stream",
          "text": [
            "d1: dict_keys([86, 91, 1, 62, 55, 92, 880, 234, 7, 81])\n",
            "d2: dict_keys([1, 7, 55, 62, 81, 86, 91, 92, 234, 880])\n",
            "d3: dict_keys([880, 55, 86, 91, 62, 81, 234, 92, 7, 1])\n",
            "True\n",
            "True\n",
            "{86: 'China', 91: 'India', 1: 'United States', 62: 'Indonesia', 55: 'Brazil', 92: 'Pakistan', 880: 'Bangladesh', 234: 'Nigeria', 7: 'Russia', 81: 'Japan'}\n",
            "{1: 'United States', 7: 'Russia', 55: 'Brazil', 62: 'Indonesia', 81: 'Japan', 86: 'China', 91: 'India', 92: 'Pakistan', 234: 'Nigeria', 880: 'Bangladesh'}\n"
          ],
          "name": "stdout"
        }
      ]
    },
    {
      "cell_type": "code",
      "metadata": {
        "id": "q6FnKdP9PxFm",
        "colab_type": "code",
        "colab": {
          "base_uri": "https://localhost:8080/",
          "height": 34
        },
        "outputId": "ec1a9c91-3465-471a-9392-5c11341b7480"
      },
      "source": [
        "novo_dict = {i: i+1 for i in range(10)}\n",
        "print(novo_dict)"
      ],
      "execution_count": 2,
      "outputs": [
        {
          "output_type": "stream",
          "text": [
            "{0: 1, 1: 2, 2: 3, 3: 4, 4: 5, 5: 6, 6: 7, 7: 8, 8: 9, 9: 10}\n"
          ],
          "name": "stdout"
        }
      ]
    },
    {
      "cell_type": "code",
      "metadata": {
        "id": "P94o-TfkQBiW",
        "colab_type": "code",
        "colab": {
          "base_uri": "https://localhost:8080/",
          "height": 85
        },
        "outputId": "262cc63a-8c0d-4151-8abe-de3a18b0c23f"
      },
      "source": [
        "nome = \"Python fluente\"\n",
        "outro_dict = {c: i for i, c in enumerate(nome)}\n",
        "print(outro_dict)\n",
        "outro_dict['  '] = 123\n",
        "print(outro_dict)\n",
        "print(sorted(outro_dict))\n",
        "outro_dict[(1, 2)] = 'abc'\n",
        "print(outro_dict)\n",
        "# outro_dict[(1, [2, 3])] = 'xyz' Não funciona\n",
        "# print(sorted(outro_dict))"
      ],
      "execution_count": 69,
      "outputs": [
        {
          "output_type": "stream",
          "text": [
            "{'P': 0, 'y': 1, 't': 12, 'h': 3, 'o': 4, 'n': 11, ' ': 6, 'f': 7, 'l': 8, 'u': 9, 'e': 13}\n",
            "{'P': 0, 'y': 1, 't': 12, 'h': 3, 'o': 4, 'n': 11, ' ': 6, 'f': 7, 'l': 8, 'u': 9, 'e': 13, '  ': 123}\n",
            "[' ', '  ', 'P', 'e', 'f', 'h', 'l', 'n', 'o', 't', 'u', 'y']\n",
            "{'P': 0, 'y': 1, 't': 12, 'h': 3, 'o': 4, 'n': 11, ' ': 6, 'f': 7, 'l': 8, 'u': 9, 'e': 13, '  ': 123, (1, 2): 'abc'}\n"
          ],
          "name": "stdout"
        }
      ]
    },
    {
      "cell_type": "code",
      "metadata": {
        "id": "6ZfwCqVSQgiJ",
        "colab_type": "code",
        "colab": {
          "base_uri": "https://localhost:8080/",
          "height": 34
        },
        "outputId": "7a1e1fbf-32b1-44ef-83d1-65f8d1625ee1"
      },
      "source": [
        "mais_um = {(1, 2): 1, (5, 3): 2, (2, 4):3}\n",
        "print(sorted(mais_um))"
      ],
      "execution_count": 71,
      "outputs": [
        {
          "output_type": "stream",
          "text": [
            "[(1, 2), (2, 4), (5, 3)]\n"
          ],
          "name": "stdout"
        }
      ]
    },
    {
      "cell_type": "markdown",
      "metadata": {
        "id": "orlmy21zT2Kl",
        "colab_type": "text"
      },
      "source": [
        "## Visão geral dos métodos de mapeamento\n",
        "\n",
        "dict: https://docs.python.org/3/library/stdtypes.html#dict\n",
        "\n",
        "\n",
        "defaultdict: https://docs.python.org/3/library/collections.html#collections.defaultdict\n",
        "\n",
        "\n",
        "ordered dict: https://docs.python.org/3/library/collections.html?highlight=collections#collections.OrderedDict\n"
      ]
    },
    {
      "cell_type": "markdown",
      "metadata": {
        "id": "gu7Tc9xP2X9F",
        "colab_type": "text"
      },
      "source": [
        "### Dict\n",
        "\n",
        "1. https://github.com/python/cpython/blob/master/Objects/dictobject.c\n"
      ]
    },
    {
      "cell_type": "code",
      "metadata": {
        "id": "UIihGbFGUaUc",
        "colab_type": "code",
        "colab": {
          "base_uri": "https://localhost:8080/",
          "height": 136
        },
        "outputId": "a0dc4728-5ec9-433b-d7f7-a77e86933203"
      },
      "source": [
        "d = dict({'c': 1, 'b': 2, 'alo': 3})\n",
        "d['nova_chave'] = 'um valor'\n",
        "d['d'] = None\n",
        "print(d)\n",
        "print(d['b'])\n",
        "\n",
        "for item in d:\n",
        "  print(item)\n",
        "\n",
        "# print(d['abcde'])"
      ],
      "execution_count": 93,
      "outputs": [
        {
          "output_type": "stream",
          "text": [
            "{'c': 1, 'b': 2, 'alo': 3, 'nova_chave': 'um valor', 'd': None}\n",
            "2\n",
            "c\n",
            "b\n",
            "alo\n",
            "nova_chave\n",
            "d\n"
          ],
          "name": "stdout"
        }
      ]
    },
    {
      "cell_type": "markdown",
      "metadata": {
        "id": "tTqbISru0NW0",
        "colab_type": "text"
      },
      "source": [
        "### Default dict\n",
        "\n",
        "o default dict tem uma default factory. Quando é acessada uma chave que não existe, ela é automaticamente criada com um valor do tipo da default factory"
      ]
    },
    {
      "cell_type": "code",
      "metadata": {
        "id": "YBHF2N4KUxT4",
        "colab_type": "code",
        "colab": {
          "base_uri": "https://localhost:8080/",
          "height": 187
        },
        "outputId": "b75b03b8-944f-4ea7-f26c-3260877ce2d4"
      },
      "source": [
        "from collections import defaultdict\n",
        "dd = defaultdict(tuple)\n",
        "dd['a'] = 1\n",
        "dd['e'] = 2\n",
        "dd['d'] = 3\n",
        "dd['b'] = 4\n",
        "dd['c'] = None\n",
        "\n",
        "print(dd)\n",
        "# o que é esse None? \n",
        "# vamos trocar o default_factory\n",
        "\n",
        "print(dd['b'])\n",
        "\n",
        "for item in dd:\n",
        "  print(item)\n",
        "\n",
        "print(dd['abc'])\n",
        "\n",
        "print(dd)\n"
      ],
      "execution_count": 85,
      "outputs": [
        {
          "output_type": "stream",
          "text": [
            "defaultdict(<class 'tuple'>, {'a': 1, 'e': 2, 'd': 3, 'b': 4, 'c': None})\n",
            "4\n",
            "a\n",
            "e\n",
            "d\n",
            "b\n",
            "c\n",
            "()\n",
            "defaultdict(<class 'tuple'>, {'a': 1, 'e': 2, 'd': 3, 'b': 4, 'c': None, 'abc': ()})\n"
          ],
          "name": "stdout"
        },
        {
          "output_type": "execute_result",
          "data": {
            "text/plain": [
              "1"
            ]
          },
          "metadata": {
            "tags": []
          },
          "execution_count": 85
        }
      ]
    },
    {
      "cell_type": "code",
      "metadata": {
        "id": "BeLvCDKKMKgS",
        "colab_type": "code",
        "colab": {
          "base_uri": "https://localhost:8080/",
          "height": 102
        },
        "outputId": "a952e77b-3b99-4604-a818-0b353c79aa5b"
      },
      "source": [
        "print(d.get('a'))\n",
        "print(d.get('alo'))\n",
        "print(d.get('abc', 400))\n",
        "print(d.get('d', 400))\n",
        "print(d)"
      ],
      "execution_count": 94,
      "outputs": [
        {
          "output_type": "stream",
          "text": [
            "None\n",
            "3\n",
            "400\n",
            "None\n",
            "{'c': 1, 'b': 2, 'alo': 3, 'nova_chave': 'um valor', 'd': None}\n"
          ],
          "name": "stdout"
        }
      ]
    },
    {
      "cell_type": "markdown",
      "metadata": {
        "id": "M5kptjkx0ayI",
        "colab_type": "text"
      },
      "source": [
        "### Ordered dict\n",
        "\n",
        "O ordered dict mantém a ordenação de **inserção** do objeto. Usando o método _popitem()_ é possível remover um elemento seguindo os padrões LIFO ou FIFO.\n",
        "\n",
        "LIFO = Last in first out (pilha)\n",
        "FIFO = First in last out (fila)\n",
        "\n",
        "1. https://github.com/python/cpython/blob/master/Lib/collections/__init__.py\n",
        "1. https://github.com/python/cpython/blob/master/Objects/odictobject.c"
      ]
    },
    {
      "cell_type": "code",
      "metadata": {
        "id": "FKcwgEK1zT_n",
        "colab_type": "code",
        "colab": {
          "base_uri": "https://localhost:8080/",
          "height": 136
        },
        "outputId": "f6226075-b932-4652-ce5c-27c7d77d8591"
      },
      "source": [
        "from collections import OrderedDict\n",
        "\n",
        "od = OrderedDict()\n",
        "\n",
        "od['c'] = 1\n",
        "od['a'] = 2\n",
        "od['e'] = 4\n",
        "od['b'] = 5\n",
        "od['d'] = 3\n",
        "\n",
        "\n",
        "print(od)\n",
        "\n",
        "for item in od:\n",
        "  print(item)"
      ],
      "execution_count": 100,
      "outputs": [
        {
          "output_type": "stream",
          "text": [
            "OrderedDict([('c', 1), ('a', 2), ('e', 4), ('b', 5), ('d', 3)])\n",
            "\n",
            "c\n",
            "a\n",
            "e\n",
            "b\n",
            "d\n"
          ],
          "name": "stdout"
        }
      ]
    },
    {
      "cell_type": "code",
      "metadata": {
        "id": "ghGKWKXMOVIW",
        "colab_type": "code",
        "colab": {}
      },
      "source": [
        ""
      ],
      "execution_count": null,
      "outputs": []
    },
    {
      "cell_type": "code",
      "metadata": {
        "id": "TjNqJ5NnNlsZ",
        "colab_type": "code",
        "colab": {
          "base_uri": "https://localhost:8080/",
          "height": 119
        },
        "outputId": "174551ff-948f-437a-baee-01fa8f56808a"
      },
      "source": [
        "od = {}\n",
        "od['c'] = 1\n",
        "od['a'] = 2\n",
        "od['e'] = 4\n",
        "od['b'] = 5\n",
        "od['d'] = 3\n",
        "\n",
        "\n",
        "print(od)\n",
        "\n",
        "for item in od:\n",
        "  print(item)"
      ],
      "execution_count": 99,
      "outputs": [
        {
          "output_type": "stream",
          "text": [
            "{'c': 1, 'a': 2, 'e': 4, 'b': 5, 'd': 3}\n",
            "c\n",
            "a\n",
            "e\n",
            "b\n",
            "d\n"
          ],
          "name": "stdout"
        }
      ]
    },
    {
      "cell_type": "markdown",
      "metadata": {
        "id": "FzVxE-X01AsT",
        "colab_type": "text"
      },
      "source": [
        "### O método update\n",
        "O método _update()_ espera receber como parâmetro um objeto iterável pelas chaves, _dict_ por exemplo, itera por elas e adiciona no objeto que a chamou."
      ]
    },
    {
      "cell_type": "code",
      "metadata": {
        "id": "FlWeuw1bojBc",
        "colab_type": "code",
        "colab": {
          "base_uri": "https://localhost:8080/",
          "height": 248
        },
        "outputId": "3b6f0339-eaf2-4f74-f314-ce76e4a3209c"
      },
      "source": [
        "m = {'chave': 'a', 'outra_chave': 1}\n",
        "print(d)\n",
        "d.update(m)\n",
        "print(d)\n",
        "d.update(od)\n",
        "print(d)\n",
        "d.update([1, 2, 4])\n"
      ],
      "execution_count": 102,
      "outputs": [
        {
          "output_type": "stream",
          "text": [
            "{'c': 1, 'b': 5, 'alo': 3, 'nova_chave': 'um valor', 'd': 3, 'chave': 'a', 'outra_chave': 1, 'a': 2, 'e': 4}\n",
            "{'c': 1, 'b': 5, 'alo': 3, 'nova_chave': 'um valor', 'd': 3, 'chave': 'a', 'outra_chave': 1, 'a': 2, 'e': 4}\n",
            "{'c': 1, 'b': 5, 'alo': 3, 'nova_chave': 'um valor', 'd': 3, 'chave': 'a', 'outra_chave': 1, 'a': 2, 'e': 4}\n"
          ],
          "name": "stdout"
        },
        {
          "output_type": "error",
          "ename": "TypeError",
          "evalue": "ignored",
          "traceback": [
            "\u001b[0;31m---------------------------------------------------------------------------\u001b[0m",
            "\u001b[0;31mTypeError\u001b[0m                                 Traceback (most recent call last)",
            "\u001b[0;32m<ipython-input-102-7aa618e660a8>\u001b[0m in \u001b[0;36m<module>\u001b[0;34m()\u001b[0m\n\u001b[1;32m      5\u001b[0m \u001b[0md\u001b[0m\u001b[0;34m.\u001b[0m\u001b[0mupdate\u001b[0m\u001b[0;34m(\u001b[0m\u001b[0mod\u001b[0m\u001b[0;34m)\u001b[0m\u001b[0;34m\u001b[0m\u001b[0;34m\u001b[0m\u001b[0m\n\u001b[1;32m      6\u001b[0m \u001b[0mprint\u001b[0m\u001b[0;34m(\u001b[0m\u001b[0md\u001b[0m\u001b[0;34m)\u001b[0m\u001b[0;34m\u001b[0m\u001b[0;34m\u001b[0m\u001b[0m\n\u001b[0;32m----> 7\u001b[0;31m \u001b[0md\u001b[0m\u001b[0;34m.\u001b[0m\u001b[0mupdate\u001b[0m\u001b[0;34m(\u001b[0m\u001b[0;34m[\u001b[0m\u001b[0;36m1\u001b[0m\u001b[0;34m,\u001b[0m \u001b[0;36m2\u001b[0m\u001b[0;34m,\u001b[0m \u001b[0;36m4\u001b[0m\u001b[0;34m]\u001b[0m\u001b[0;34m)\u001b[0m\u001b[0;34m\u001b[0m\u001b[0;34m\u001b[0m\u001b[0m\n\u001b[0m",
            "\u001b[0;31mTypeError\u001b[0m: cannot convert dictionary update sequence element #0 to a sequence"
          ]
        }
      ]
    },
    {
      "cell_type": "markdown",
      "metadata": {
        "id": "0wAEC7Bvu8UM",
        "colab_type": "text"
      },
      "source": [
        "### Tratando chaves ausentes com setdefault\n",
        "\n",
        "setdefault: https://docs.python.org/3/library/stdtypes.html#dict.setdefault\n"
      ]
    },
    {
      "cell_type": "code",
      "metadata": {
        "id": "d_F5RLvOYqk0",
        "colab_type": "code",
        "colab": {}
      },
      "source": [
        "# adapted from Alex Martelli's example in \"Re-learning Python\"\n",
        "# http://www.aleax.it/Python/accu04_Relearn_Python_alex.pdf\n",
        "# (slide 41) Ex: lines-by-word file index\n",
        "\n",
        "# BEGIN INDEX0\n",
        "\"\"\"Build an index mapping word -> list of occurrences\"\"\"\n",
        "\n",
        "import sys\n",
        "import re\n",
        "\n",
        "WORD_RE = re.compile('\\w+')\n",
        "\n",
        "index = {}\n",
        "with open(sys.argv[1], encoding='utf-8') as fp:\n",
        "    for line_no, line in enumerate(fp, 1):\n",
        "        for match in WORD_RE.finditer(line):\n",
        "            word = match.group()\n",
        "            column_no = match.start()+1\n",
        "            location = (line_no, column_no)\n",
        "            # this is ugly; coded like this to make a point\n",
        "            occurrences = index.get(word, [])  # <1>\n",
        "            occurrences.append(location)       # <2>\n",
        "            index[word] = occurrences          # <3>\n",
        "\n",
        "# print in alphabetical order\n",
        "for word in sorted(index, key=str.upper):\n",
        "    print(word, index[word])\n",
        "# END INDEX0\n"
      ],
      "execution_count": null,
      "outputs": []
    },
    {
      "cell_type": "code",
      "metadata": {
        "id": "71GHOhPHvSGZ",
        "colab_type": "code",
        "colab": {}
      },
      "source": [
        "# adapted from Alex Martelli's example in \"Re-learning Python\"\n",
        "# http://www.aleax.it/Python/accu04_Relearn_Python_alex.pdf\n",
        "# (slide 41) Ex: lines-by-word file index\n",
        "\n",
        "# BEGIN INDEX\n",
        "\"\"\"Build an index mapping word -> list of occurrences\"\"\"\n",
        "\n",
        "import sys\n",
        "import re\n",
        "\n",
        "WORD_RE = re.compile('\\w+')\n",
        "\n",
        "index = {}\n",
        "with open(sys.argv[1], encoding='utf-8') as fp:\n",
        "    for line_no, line in enumerate(fp, 1):\n",
        "        for match in WORD_RE.finditer(line):\n",
        "            word = match.group()\n",
        "            column_no = match.start()+1\n",
        "            location = (line_no, column_no)\n",
        "            index.setdefault(word, []).append(location)  # <1>\n",
        "\n",
        "# print in alphabetical order\n",
        "for word in sorted(index, key=str.upper):\n",
        "    print(word, index[word])\n",
        "# END INDEX\n"
      ],
      "execution_count": null,
      "outputs": []
    },
    {
      "cell_type": "code",
      "metadata": {
        "id": "nsZ5po2UwBmA",
        "colab_type": "code",
        "colab": {
          "base_uri": "https://localhost:8080/",
          "height": 34
        },
        "outputId": "9fa7f1a6-025c-4f40-da60-edc22ce99f45"
      },
      "source": [
        "my_dict = {'nome': 'pessoa', 'idade': 10, 'sei la': 'beleza'}\n",
        "\n",
        "my_dict.setdefault('a', 'se não existe a chave, me coloca')\n",
        "my_dict.setdefault('nome', 'se não existe a chave, me coloca')\n",
        "\n",
        "print(my_dict)"
      ],
      "execution_count": 26,
      "outputs": [
        {
          "output_type": "stream",
          "text": [
            "{'nome': 'pessoa', 'idade': 10, 'sei la': 'beleza', 'a': 'se não existe a chave, me coloca'}\n"
          ],
          "name": "stdout"
        }
      ]
    }
  ]
}