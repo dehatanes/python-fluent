{
  "nbformat": 4,
  "nbformat_minor": 0,
  "metadata": {
    "colab": {
      "name": "cap3 - Python Fluente.ipynb",
      "provenance": []
    },
    "kernelspec": {
      "name": "python3",
      "display_name": "Python 3"
    }
  },
  "cells": [
    {
      "cell_type": "markdown",
      "metadata": {
        "id": "caZTdT-Z1Egn",
        "colab_type": "text"
      },
      "source": [
        "# Dicionários e conjuntos"
      ]
    },
    {
      "cell_type": "markdown",
      "metadata": {
        "id": "OXNKqug70pBu",
        "colab_type": "text"
      },
      "source": [
        "## Hashable\n",
        "Um objeto é hashable se tiver um valor de hash (método \\_\\_hash\\_\\_() implementado) que nunca mude durante seu tempo de vida e puder ser comparado (método \\_\\_eq\\_\\_() implementado) com outros objetos. Objetos hashable iguais devem ter o mesmo valor de hash.\n",
        "\n",
        "Obs: A maioria dos objetos embutidos imutáveis do Python são hasheáveis;  containers imutáveis (tais como tuplas e frozensets) são hasheáveis apenas se os seus elementos são hasheáveis. Objetos que são instâncias de classes definidas pelo usuário são hasheáveis por padrão. \n",
        "Todos eles comparam de forma desigual (exceto entre si mesmos), e o seu valor hash é derivado a partir do seu id().\n",
        "1) https://docs.python.org/3/glossary.html#term-hashable \n",
        "\n",
        "\n",
        "Enquanto estávamos estudando ficamos em dúvida em relação ao _hash_, _id_, _hash(id)_ de um objeto. Alguns links que pode nos ajudar a entender isso:\n",
        "\n",
        "1. https://stackoverflow.com/questions/11324271/what-is-the-default-hash-in-python\n",
        "\n",
        "1. https://stackoverflow.com/questions/49722196/how-does-python-compute-the-hash-of-a-tuple\n",
        "\n",
        "1. https://github.com/python/cpython/blob/master/Python/pyhash.c\n",
        "\n",
        "\n",
        "\n"
      ]
    },
    {
      "cell_type": "code",
      "metadata": {
        "id": "ZeaCwF-P0lwu",
        "colab_type": "code",
        "colab": {
          "base_uri": "https://localhost:8080/",
          "height": 34
        },
        "outputId": "05b71d21-ac02-4681-eca1-6f75c4269372"
      },
      "source": [
        "tt = (1, 2, (30, 40))\n",
        "hash(tt)"
      ],
      "execution_count": 1,
      "outputs": [
        {
          "output_type": "execute_result",
          "data": {
            "text/plain": [
              "8027212646858338501"
            ]
          },
          "metadata": {
            "tags": []
          },
          "execution_count": 1
        }
      ]
    },
    {
      "cell_type": "code",
      "metadata": {
        "id": "K6Fun14j1QSe",
        "colab_type": "code",
        "colab": {
          "base_uri": "https://localhost:8080/",
          "height": 180
        },
        "outputId": "9edeaab0-b06c-4834-a8cf-74f9b34eef39"
      },
      "source": [
        "tl = (1, 2, [30, 40])\n",
        "hash(tl)"
      ],
      "execution_count": 2,
      "outputs": [
        {
          "output_type": "error",
          "ename": "TypeError",
          "evalue": "ignored",
          "traceback": [
            "\u001b[0;31m---------------------------------------------------------------------------\u001b[0m",
            "\u001b[0;31mTypeError\u001b[0m                                 Traceback (most recent call last)",
            "\u001b[0;32m<ipython-input-2-258d676ca6dc>\u001b[0m in \u001b[0;36m<module>\u001b[0;34m()\u001b[0m\n\u001b[1;32m      1\u001b[0m \u001b[0mtl\u001b[0m \u001b[0;34m=\u001b[0m \u001b[0;34m(\u001b[0m\u001b[0;36m1\u001b[0m\u001b[0;34m,\u001b[0m \u001b[0;36m2\u001b[0m\u001b[0;34m,\u001b[0m \u001b[0;34m[\u001b[0m\u001b[0;36m30\u001b[0m\u001b[0;34m,\u001b[0m \u001b[0;36m40\u001b[0m\u001b[0;34m]\u001b[0m\u001b[0;34m)\u001b[0m\u001b[0;34m\u001b[0m\u001b[0;34m\u001b[0m\u001b[0m\n\u001b[0;32m----> 2\u001b[0;31m \u001b[0mhash\u001b[0m\u001b[0;34m(\u001b[0m\u001b[0mtl\u001b[0m\u001b[0;34m)\u001b[0m\u001b[0;34m\u001b[0m\u001b[0;34m\u001b[0m\u001b[0m\n\u001b[0m",
            "\u001b[0;31mTypeError\u001b[0m: unhashable type: 'list'"
          ]
        }
      ]
    },
    {
      "cell_type": "code",
      "metadata": {
        "id": "AaL2Mj9b1V8r",
        "colab_type": "code",
        "colab": {
          "base_uri": "https://localhost:8080/",
          "height": 34
        },
        "outputId": "101e48e8-2c8a-4f0a-fdbe-c696f470d166"
      },
      "source": [
        "tf = (1, 2, frozenset([30, 40]))\n",
        "hash(tf)"
      ],
      "execution_count": 4,
      "outputs": [
        {
          "output_type": "execute_result",
          "data": {
            "text/plain": [
              "985328935373711578"
            ]
          },
          "metadata": {
            "tags": []
          },
          "execution_count": 4
        }
      ]
    },
    {
      "cell_type": "code",
      "metadata": {
        "id": "PGP0M0IXCDSp",
        "colab_type": "code",
        "colab": {
          "base_uri": "https://localhost:8080/",
          "height": 102
        },
        "outputId": "d199261e-e3d2-40e5-9451-d04511c6ffca"
      },
      "source": [
        "class MinhaClasse():\n",
        "  def __init__(self, a=10):\n",
        "    self.a = a\n",
        "  \n",
        "  def __repr__(self):\n",
        "    return f\"{self.a} no objeto {id(self)}\"\n",
        "\n",
        "mc1 = MinhaClasse(a=10)\n",
        "#print(mc1)\n",
        "#print(hash(mc1))\n",
        "\n",
        "mc2 = MinhaClasse(a=20)\n",
        "#print(mc2)\n",
        "#print(hash(mc2))\n",
        "\n",
        "mc3 = MinhaClasse(a=[1, 2, 3])\n",
        "print(id(mc3))\n",
        "print(hash(id(mc3)))\n",
        "print(hash(mc3))\n",
        "print(repr(mc3))\n",
        "print(mc3)"
      ],
      "execution_count": 5,
      "outputs": [
        {
          "output_type": "stream",
          "text": [
            "139691358833856\n",
            "139691358833856\n",
            "8730709927116\n",
            "[1, 2, 3] no objeto 139691358833856\n",
            "[1, 2, 3] no objeto 139691358833856\n"
          ],
          "name": "stdout"
        }
      ]
    },
    {
      "cell_type": "code",
      "metadata": {
        "id": "OKKYLq7aDCdP",
        "colab_type": "code",
        "colab": {
          "base_uri": "https://localhost:8080/",
          "height": 68
        },
        "outputId": "79086184-00c9-4cc0-eb2a-c0e6ab61798f"
      },
      "source": [
        "a = f\"abcde\"\n",
        "print(type(a))\n",
        "print(hash(a))\n",
        "print(id(a))"
      ],
      "execution_count": 6,
      "outputs": [
        {
          "output_type": "stream",
          "text": [
            "<class 'str'>\n",
            "1943970455655523777\n",
            "139691358778960\n"
          ],
          "name": "stdout"
        }
      ]
    },
    {
      "cell_type": "markdown",
      "metadata": {
        "id": "g1anh6085F4j",
        "colab_type": "text"
      },
      "source": [
        "### Rapidinho: o que é um frozenset\n",
        "O que é e pra que serve?\n",
        "\n",
        "A set object is an unordered collection of distinct hashable objects. Common uses include membership testing, removing duplicates from a sequence, and computing mathematical operations such as intersection, union, difference, and symmetric difference.\n",
        "\n",
        "1) https://docs.python.org/3/library/stdtypes.html#set-types-set-frozenset\n",
        "\n",
        "2) ordem de sets unordered https://stackoverflow.com/questions/12165200/order-of-unordered-python-sets\n",
        "\n"
      ]
    },
    {
      "cell_type": "code",
      "metadata": {
        "id": "NQAlbhafDqbU",
        "colab_type": "code",
        "colab": {
          "base_uri": "https://localhost:8080/",
          "height": 34
        },
        "outputId": "e5604adb-ce98-47c0-aabf-30d4a6bfdbe0"
      },
      "source": [
        "s = set([3, 2, 4, 1, 'abc', mc1, mc2, mc3])\n",
        "print(s)"
      ],
      "execution_count": 7,
      "outputs": [
        {
          "output_type": "stream",
          "text": [
            "{1, 2, 3, 4, [1, 2, 3] no objeto 139691358833856, 20 no objeto 139691358833912, 10 no objeto 139691358834024, 'abc'}\n"
          ],
          "name": "stdout"
        }
      ]
    },
    {
      "cell_type": "code",
      "metadata": {
        "id": "GwdTUP1f1k_k",
        "colab_type": "code",
        "colab": {
          "base_uri": "https://localhost:8080/",
          "height": 136
        },
        "outputId": "11459a4f-7ad6-4ee3-9e5b-e2b26cc9e605"
      },
      "source": [
        "a = frozenset([1, 2])\n",
        "print(a)\n",
        "print(len(a))\n",
        "for item in a:\n",
        "  print(f\"{item} dentro do frozenset\")\n",
        "if 1 in a:\n",
        "  print(\"Tá dentro\")\n",
        "\n",
        "for item in a:\n",
        "  print(f\"{item} dentro do frozenset\")"
      ],
      "execution_count": 8,
      "outputs": [
        {
          "output_type": "stream",
          "text": [
            "frozenset({1, 2})\n",
            "2\n",
            "1 dentro do frozenset\n",
            "2 dentro do frozenset\n",
            "Tá dentro\n",
            "1 dentro do frozenset\n",
            "2 dentro do frozenset\n"
          ],
          "name": "stdout"
        }
      ]
    },
    {
      "cell_type": "code",
      "metadata": {
        "id": "SILmiG7l6B4f",
        "colab_type": "code",
        "colab": {
          "base_uri": "https://localhost:8080/",
          "height": 51
        },
        "outputId": "f06e72b6-2e5a-40bb-81c0-650ffc16ff9e"
      },
      "source": [
        "b = frozenset([1, 2, 3, 4, 5])\n",
        "print(b < a)\n",
        "print(b > a)"
      ],
      "execution_count": 9,
      "outputs": [
        {
          "output_type": "stream",
          "text": [
            "False\n",
            "True\n"
          ],
          "name": "stdout"
        }
      ]
    },
    {
      "cell_type": "code",
      "metadata": {
        "id": "u3kCYXTE6w_l",
        "colab_type": "code",
        "colab": {
          "base_uri": "https://localhost:8080/",
          "height": 85
        },
        "outputId": "cce220d1-528c-4e1c-939c-a3fd31ab4d78"
      },
      "source": [
        "c = frozenset([1, 5, 6, 7])\n",
        "print(c)\n",
        "\n",
        "print(a.union(c))\n",
        "\n",
        "print(a)\n",
        "print(c)"
      ],
      "execution_count": 10,
      "outputs": [
        {
          "output_type": "stream",
          "text": [
            "frozenset({1, 5, 6, 7})\n",
            "frozenset({1, 2, 5, 6, 7})\n",
            "frozenset({1, 2})\n",
            "frozenset({1, 5, 6, 7})\n"
          ],
          "name": "stdout"
        }
      ]
    },
    {
      "cell_type": "code",
      "metadata": {
        "id": "JOemBto77OhF",
        "colab_type": "code",
        "colab": {
          "base_uri": "https://localhost:8080/",
          "height": 34
        },
        "outputId": "402f86db-431a-4466-a567-6889b22e725a"
      },
      "source": [
        "hash(c)"
      ],
      "execution_count": 11,
      "outputs": [
        {
          "output_type": "execute_result",
          "data": {
            "text/plain": [
              "-5809485022134541148"
            ]
          },
          "metadata": {
            "tags": []
          },
          "execution_count": 11
        }
      ]
    },
    {
      "cell_type": "markdown",
      "metadata": {
        "id": "puW0z1CC1gJa",
        "colab_type": "text"
      },
      "source": [
        "## Dict comprehensions"
      ]
    },
    {
      "cell_type": "code",
      "metadata": {
        "id": "cpZNCEcdPmnY",
        "colab_type": "code",
        "colab": {
          "base_uri": "https://localhost:8080/",
          "height": 136
        },
        "outputId": "d2e00869-4365-4df6-9fe5-7b4fa93e892d"
      },
      "source": [
        "# BEGIN DIALCODES\n",
        "# dial codes of the top 10 most populous countries\n",
        "DIAL_CODES = [\n",
        "        (86, 'China'),\n",
        "        (91, 'India'),\n",
        "        (1, 'United States'),\n",
        "        (62, 'Indonesia'),\n",
        "        (55, 'Brazil'),\n",
        "        (92, 'Pakistan'),\n",
        "        (880, 'Bangladesh'),\n",
        "        (234, 'Nigeria'),\n",
        "        (7, 'Russia'),\n",
        "        (81, 'Japan'),\n",
        "    ]\n",
        "\n",
        "d1 = dict(DIAL_CODES)  # <1>\n",
        "print('d1:', d1.keys())\n",
        "d2 = dict(sorted(DIAL_CODES))  # <2>\n",
        "print('d2:', d2.keys())\n",
        "d3 = dict(sorted(DIAL_CODES, key=lambda x:x[1]))  # <3>\n",
        "print('d3:', d3.keys())\n",
        "assert d1 == d2 and d2 == d3  # <4>\n",
        "\n",
        "print(d1 == d2)\n",
        "print(d2 == d3)\n",
        "print(d1)\n",
        "print(d2)\n",
        "# END DIALCODES\n",
        "\n",
        "# # BEGIN DIALCODES_OUTPUT\n",
        "# d1: dict_keys([880, 1, 86, 55, 7, 234, 91, 92, 62, 81])\n",
        "# d2: dict_keys([880, 1, 91, 86, 81, 55, 234, 7, 92, 62])\n",
        "# d3: dict_keys([880, 81, 1, 86, 55, 7, 234, 91, 92, 62])\n",
        "# # END DIALCODES_OUTPUT\n",
        "\n"
      ],
      "execution_count": 12,
      "outputs": [
        {
          "output_type": "stream",
          "text": [
            "d1: dict_keys([86, 91, 1, 62, 55, 92, 880, 234, 7, 81])\n",
            "d2: dict_keys([1, 7, 55, 62, 81, 86, 91, 92, 234, 880])\n",
            "d3: dict_keys([880, 55, 86, 91, 62, 81, 234, 92, 7, 1])\n",
            "True\n",
            "True\n",
            "{86: 'China', 91: 'India', 1: 'United States', 62: 'Indonesia', 55: 'Brazil', 92: 'Pakistan', 880: 'Bangladesh', 234: 'Nigeria', 7: 'Russia', 81: 'Japan'}\n",
            "{1: 'United States', 7: 'Russia', 55: 'Brazil', 62: 'Indonesia', 81: 'Japan', 86: 'China', 91: 'India', 92: 'Pakistan', 234: 'Nigeria', 880: 'Bangladesh'}\n"
          ],
          "name": "stdout"
        }
      ]
    },
    {
      "cell_type": "code",
      "metadata": {
        "id": "q6FnKdP9PxFm",
        "colab_type": "code",
        "colab": {
          "base_uri": "https://localhost:8080/",
          "height": 34
        },
        "outputId": "6744112e-3b74-467a-a022-626ffa25be9c"
      },
      "source": [
        "novo_dict = {i: i+1 for i in range(10)}\n",
        "print(novo_dict)"
      ],
      "execution_count": 13,
      "outputs": [
        {
          "output_type": "stream",
          "text": [
            "{0: 1, 1: 2, 2: 3, 3: 4, 4: 5, 5: 6, 6: 7, 7: 8, 8: 9, 9: 10}\n"
          ],
          "name": "stdout"
        }
      ]
    },
    {
      "cell_type": "code",
      "metadata": {
        "id": "P94o-TfkQBiW",
        "colab_type": "code",
        "colab": {
          "base_uri": "https://localhost:8080/",
          "height": 85
        },
        "outputId": "66e40e2a-b47f-410a-f21a-b942c832df2b"
      },
      "source": [
        "nome = \"Python fluente\"\n",
        "outro_dict = {c: i for i, c in enumerate(nome)}\n",
        "print(outro_dict)\n",
        "outro_dict['  '] = 123\n",
        "print(outro_dict)\n",
        "print(sorted(outro_dict))\n",
        "outro_dict[(1, 2)] = 'abc'\n",
        "print(outro_dict)\n",
        "# outro_dict[(1, [2, 3])] = 'xyz' Não funciona\n",
        "# print(sorted(outro_dict))"
      ],
      "execution_count": 14,
      "outputs": [
        {
          "output_type": "stream",
          "text": [
            "{'P': 0, 'y': 1, 't': 12, 'h': 3, 'o': 4, 'n': 11, ' ': 6, 'f': 7, 'l': 8, 'u': 9, 'e': 13}\n",
            "{'P': 0, 'y': 1, 't': 12, 'h': 3, 'o': 4, 'n': 11, ' ': 6, 'f': 7, 'l': 8, 'u': 9, 'e': 13, '  ': 123}\n",
            "[' ', '  ', 'P', 'e', 'f', 'h', 'l', 'n', 'o', 't', 'u', 'y']\n",
            "{'P': 0, 'y': 1, 't': 12, 'h': 3, 'o': 4, 'n': 11, ' ': 6, 'f': 7, 'l': 8, 'u': 9, 'e': 13, '  ': 123, (1, 2): 'abc'}\n"
          ],
          "name": "stdout"
        }
      ]
    },
    {
      "cell_type": "code",
      "metadata": {
        "id": "6ZfwCqVSQgiJ",
        "colab_type": "code",
        "colab": {
          "base_uri": "https://localhost:8080/",
          "height": 34
        },
        "outputId": "d6e9ae26-1c80-4769-8512-5d8e6fbe89c2"
      },
      "source": [
        "mais_um = {(1, 2): 1, (5, 3): 2, (2, 4):3}\n",
        "print(sorted(mais_um))"
      ],
      "execution_count": 15,
      "outputs": [
        {
          "output_type": "stream",
          "text": [
            "[(1, 2), (2, 4), (5, 3)]\n"
          ],
          "name": "stdout"
        }
      ]
    },
    {
      "cell_type": "markdown",
      "metadata": {
        "id": "orlmy21zT2Kl",
        "colab_type": "text"
      },
      "source": [
        "## Visão geral dos métodos de mapeamento\n",
        "\n",
        "dict: https://docs.python.org/3/library/stdtypes.html#dict\n",
        "\n",
        "\n",
        "defaultdict: https://docs.python.org/3/library/collections.html#collections.defaultdict\n",
        "\n",
        "\n",
        "ordered dict: https://docs.python.org/3/library/collections.html?highlight=collections#collections.OrderedDict\n"
      ]
    },
    {
      "cell_type": "markdown",
      "metadata": {
        "id": "gu7Tc9xP2X9F",
        "colab_type": "text"
      },
      "source": [
        "### Dict\n",
        "\n",
        "1. https://github.com/python/cpython/blob/master/Objects/dictobject.c\n"
      ]
    },
    {
      "cell_type": "code",
      "metadata": {
        "id": "UIihGbFGUaUc",
        "colab_type": "code",
        "colab": {
          "base_uri": "https://localhost:8080/",
          "height": 136
        },
        "outputId": "9215f4a0-bfb0-46e8-8c0e-39ecc55fd421"
      },
      "source": [
        "d = dict({'c': 1, 'b': 2, 'alo': 3})\n",
        "d['nova_chave'] = 'um valor'\n",
        "d['d'] = None\n",
        "print(d)\n",
        "print(d['b'])\n",
        "\n",
        "for item in d:\n",
        "  print(item)\n",
        "\n",
        "# print(d['abcde'])"
      ],
      "execution_count": 16,
      "outputs": [
        {
          "output_type": "stream",
          "text": [
            "{'c': 1, 'b': 2, 'alo': 3, 'nova_chave': 'um valor', 'd': None}\n",
            "2\n",
            "c\n",
            "b\n",
            "alo\n",
            "nova_chave\n",
            "d\n"
          ],
          "name": "stdout"
        }
      ]
    },
    {
      "cell_type": "markdown",
      "metadata": {
        "id": "tTqbISru0NW0",
        "colab_type": "text"
      },
      "source": [
        "### Default dict\n",
        "\n",
        "o default dict tem uma default factory. Quando é acessada uma chave que não existe, ela é automaticamente criada com um valor do tipo da default factory"
      ]
    },
    {
      "cell_type": "code",
      "metadata": {
        "id": "YBHF2N4KUxT4",
        "colab_type": "code",
        "colab": {
          "base_uri": "https://localhost:8080/",
          "height": 170
        },
        "outputId": "23741362-5d1a-47f5-d1c0-ab120111c142"
      },
      "source": [
        "from collections import defaultdict\n",
        "dd = defaultdict(tuple)\n",
        "dd['a'] = 1\n",
        "dd['e'] = 2\n",
        "dd['d'] = 3\n",
        "dd['b'] = 4\n",
        "dd['c'] = None\n",
        "\n",
        "print(dd)\n",
        "# o que é esse None? \n",
        "# vamos trocar o default_factory\n",
        "\n",
        "print(dd['b'])\n",
        "\n",
        "for item in dd:\n",
        "  print(item)\n",
        "\n",
        "print(dd['abc'])\n",
        "\n",
        "print(dd)\n"
      ],
      "execution_count": 17,
      "outputs": [
        {
          "output_type": "stream",
          "text": [
            "defaultdict(<class 'tuple'>, {'a': 1, 'e': 2, 'd': 3, 'b': 4, 'c': None})\n",
            "4\n",
            "a\n",
            "e\n",
            "d\n",
            "b\n",
            "c\n",
            "()\n",
            "defaultdict(<class 'tuple'>, {'a': 1, 'e': 2, 'd': 3, 'b': 4, 'c': None, 'abc': ()})\n"
          ],
          "name": "stdout"
        }
      ]
    },
    {
      "cell_type": "code",
      "metadata": {
        "id": "BeLvCDKKMKgS",
        "colab_type": "code",
        "colab": {
          "base_uri": "https://localhost:8080/",
          "height": 102
        },
        "outputId": "74ff7910-4d09-4988-f5d4-31e66b8d4c21"
      },
      "source": [
        "print(d.get('a'))\n",
        "print(d.get('alo'))\n",
        "print(d.get('abc', 400))\n",
        "print(d.get('d', 400))\n",
        "print(d)"
      ],
      "execution_count": 18,
      "outputs": [
        {
          "output_type": "stream",
          "text": [
            "None\n",
            "3\n",
            "400\n",
            "None\n",
            "{'c': 1, 'b': 2, 'alo': 3, 'nova_chave': 'um valor', 'd': None}\n"
          ],
          "name": "stdout"
        }
      ]
    },
    {
      "cell_type": "markdown",
      "metadata": {
        "id": "M5kptjkx0ayI",
        "colab_type": "text"
      },
      "source": [
        "### Ordered dict\n",
        "\n",
        "O ordered dict mantém a ordenação de **inserção** do objeto. Usando o método _popitem()_ é possível remover um elemento seguindo os padrões LIFO ou FIFO.\n",
        "\n",
        "LIFO = Last in first out (pilha)\n",
        "FIFO = First in last out (fila)\n",
        "\n",
        "1. https://github.com/python/cpython/blob/master/Lib/collections/__init__.py\n",
        "1. https://github.com/python/cpython/blob/master/Objects/odictobject.c"
      ]
    },
    {
      "cell_type": "code",
      "metadata": {
        "id": "FKcwgEK1zT_n",
        "colab_type": "code",
        "colab": {
          "base_uri": "https://localhost:8080/",
          "height": 119
        },
        "outputId": "54a82219-0bd9-4acc-ff6b-d37840b9e31c"
      },
      "source": [
        "from collections import OrderedDict\n",
        "\n",
        "od = OrderedDict()\n",
        "\n",
        "od['c'] = 1\n",
        "od['a'] = 2\n",
        "od['e'] = 4\n",
        "od['b'] = 5\n",
        "od['d'] = 3\n",
        "\n",
        "\n",
        "print(od)\n",
        "\n",
        "for item in od:\n",
        "  print(item)"
      ],
      "execution_count": 19,
      "outputs": [
        {
          "output_type": "stream",
          "text": [
            "OrderedDict([('c', 1), ('a', 2), ('e', 4), ('b', 5), ('d', 3)])\n",
            "c\n",
            "a\n",
            "e\n",
            "b\n",
            "d\n"
          ],
          "name": "stdout"
        }
      ]
    },
    {
      "cell_type": "code",
      "metadata": {
        "id": "TjNqJ5NnNlsZ",
        "colab_type": "code",
        "colab": {
          "base_uri": "https://localhost:8080/",
          "height": 119
        },
        "outputId": "6ff3acf6-a248-44b6-fd47-1a2717dc8013"
      },
      "source": [
        "od = {}\n",
        "od['c'] = 1\n",
        "od['a'] = 2\n",
        "od['e'] = 4\n",
        "od['b'] = 5\n",
        "od['d'] = 3\n",
        "\n",
        "\n",
        "print(od)\n",
        "\n",
        "for item in od:\n",
        "  print(item)"
      ],
      "execution_count": 20,
      "outputs": [
        {
          "output_type": "stream",
          "text": [
            "{'c': 1, 'a': 2, 'e': 4, 'b': 5, 'd': 3}\n",
            "c\n",
            "a\n",
            "e\n",
            "b\n",
            "d\n"
          ],
          "name": "stdout"
        }
      ]
    },
    {
      "cell_type": "markdown",
      "metadata": {
        "id": "FzVxE-X01AsT",
        "colab_type": "text"
      },
      "source": [
        "### O método update\n",
        "O método _update()_ espera receber como parâmetro um objeto iterável pelas chaves, _dict_ por exemplo, itera por elas e adiciona no objeto que a chamou."
      ]
    },
    {
      "cell_type": "code",
      "metadata": {
        "id": "FlWeuw1bojBc",
        "colab_type": "code",
        "colab": {
          "base_uri": "https://localhost:8080/",
          "height": 68
        },
        "outputId": "d014a456-62a7-4975-b60c-34a6daf18a49"
      },
      "source": [
        "m = {'chave': 'a', 'outra_chave': 1}\n",
        "print(d)\n",
        "d.update(m)\n",
        "print(d)\n",
        "d.update(od)\n",
        "print(d)\n",
        "# d.update([1, 2, 4]) # Esse caso não funciona pq não itera por chaves\n"
      ],
      "execution_count": 21,
      "outputs": [
        {
          "output_type": "stream",
          "text": [
            "{'c': 1, 'b': 2, 'alo': 3, 'nova_chave': 'um valor', 'd': None}\n",
            "{'c': 1, 'b': 2, 'alo': 3, 'nova_chave': 'um valor', 'd': None, 'chave': 'a', 'outra_chave': 1}\n",
            "{'c': 1, 'b': 5, 'alo': 3, 'nova_chave': 'um valor', 'd': 3, 'chave': 'a', 'outra_chave': 1, 'a': 2, 'e': 4}\n"
          ],
          "name": "stdout"
        }
      ]
    },
    {
      "cell_type": "markdown",
      "metadata": {
        "id": "0wAEC7Bvu8UM",
        "colab_type": "text"
      },
      "source": [
        "### Tratando chaves ausentes com setdefault\n",
        "\n",
        "setdefault: https://docs.python.org/3/library/stdtypes.html#dict.setdefault\n"
      ]
    },
    {
      "cell_type": "code",
      "metadata": {
        "id": "d_F5RLvOYqk0",
        "colab_type": "code",
        "colab": {}
      },
      "source": [
        "# adapted from Alex Martelli's example in \"Re-learning Python\"\n",
        "# http://www.aleax.it/Python/accu04_Relearn_Python_alex.pdf\n",
        "# (slide 41) Ex: lines-by-word file index\n",
        "\n",
        "# BEGIN INDEX0\n",
        "\"\"\"Build an index mapping word -> list of occurrences\"\"\"\n",
        "\n",
        "import sys\n",
        "import re\n",
        "\n",
        "WORD_RE = re.compile('\\w+')\n",
        "\n",
        "index = {}\n",
        "with open(sys.argv[1], encoding='utf-8') as fp:\n",
        "    for line_no, line in enumerate(fp, 1):\n",
        "        for match in WORD_RE.finditer(line):\n",
        "            word = match.group()\n",
        "            column_no = match.start()+1\n",
        "            location = (line_no, column_no)\n",
        "            # this is ugly; coded like this to make a point\n",
        "            occurrences = index.get(word, [])  # <1>\n",
        "            occurrences.append(location)       # <2>\n",
        "            index[word] = occurrences          # <3>\n",
        "\n",
        "# print in alphabetical order\n",
        "for word in sorted(index, key=str.upper):\n",
        "    print(word, index[word])\n",
        "# END INDEX0\n"
      ],
      "execution_count": null,
      "outputs": []
    },
    {
      "cell_type": "code",
      "metadata": {
        "id": "71GHOhPHvSGZ",
        "colab_type": "code",
        "colab": {}
      },
      "source": [
        "# adapted from Alex Martelli's example in \"Re-learning Python\"\n",
        "# http://www.aleax.it/Python/accu04_Relearn_Python_alex.pdf\n",
        "# (slide 41) Ex: lines-by-word file index\n",
        "\n",
        "# BEGIN INDEX\n",
        "\"\"\"Build an index mapping word -> list of occurrences\"\"\"\n",
        "\n",
        "import sys\n",
        "import re\n",
        "\n",
        "WORD_RE = re.compile('\\w+')\n",
        "\n",
        "index = {}\n",
        "with open(sys.argv[1], encoding='utf-8') as fp:\n",
        "    for line_no, line in enumerate(fp, 1):\n",
        "        for match in WORD_RE.finditer(line):\n",
        "            word = match.group()\n",
        "            column_no = match.start()+1\n",
        "            location = (line_no, column_no)\n",
        "            index.setdefault(word, []).append(location)  # <1>\n",
        "\n",
        "# print in alphabetical order\n",
        "for word in sorted(index, key=str.upper):\n",
        "    print(word, index[word])\n",
        "# END INDEX\n"
      ],
      "execution_count": null,
      "outputs": []
    },
    {
      "cell_type": "code",
      "metadata": {
        "id": "2WYj479x_IAM",
        "colab_type": "code",
        "colab": {
          "base_uri": "https://localhost:8080/",
          "height": 51
        },
        "outputId": "67b0fd43-1166-474f-cf38-b4a66da88a04"
      },
      "source": [
        "# Exemplo de uso do .get com valor padrão\n",
        "a = {\"um\": 1}\n",
        "print(a[\"um\"])\n",
        "\n",
        "print(a.get(\"dois\", 12))"
      ],
      "execution_count": 23,
      "outputs": [
        {
          "output_type": "stream",
          "text": [
            "1\n",
            "12\n"
          ],
          "name": "stdout"
        }
      ]
    },
    {
      "cell_type": "code",
      "metadata": {
        "id": "5h2RKsUNBetk",
        "colab_type": "code",
        "colab": {
          "base_uri": "https://localhost:8080/",
          "height": 34
        },
        "outputId": "1a8d4e95-c676-4663-b451-35e5391792f3"
      },
      "source": [
        "a = [1, 2, 4]\n",
        "a.append(200)\n",
        "print(a)"
      ],
      "execution_count": 24,
      "outputs": [
        {
          "output_type": "stream",
          "text": [
            "[1, 2, 4, 200]\n"
          ],
          "name": "stdout"
        }
      ]
    },
    {
      "cell_type": "code",
      "metadata": {
        "id": "nsZ5po2UwBmA",
        "colab_type": "code",
        "colab": {
          "base_uri": "https://localhost:8080/",
          "height": 51
        },
        "outputId": "67823e34-0c1d-49ee-ecb5-f6735ed59011"
      },
      "source": [
        "my_dict = {'nome': 'pessoa', 'idade': 10, 'sei la': 'beleza'}\n",
        "\n",
        "my_dict.setdefault('a', 'se não existe a chave, me coloca')\n",
        "outro_dict = my_dict.setdefault('nome', 'se não existe a chave, me coloca')\n",
        "\n",
        "print(my_dict)\n",
        "print(outro_dict)"
      ],
      "execution_count": 25,
      "outputs": [
        {
          "output_type": "stream",
          "text": [
            "{'nome': 'pessoa', 'idade': 10, 'sei la': 'beleza', 'a': 'se não existe a chave, me coloca'}\n",
            "pessoa\n"
          ],
          "name": "stdout"
        }
      ]
    }
  ]
}