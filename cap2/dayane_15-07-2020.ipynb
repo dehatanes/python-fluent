{
 "cells": [
  {
   "cell_type": "markdown",
   "metadata": {},
   "source": [
    "### Tuplas: listas imutáveis (mas não apenas isso!)\n",
    "\n",
    "#### Tuplas podem ser usadas como listas imutáveis ou como registros sem nomes de campos.\n",
    "\n",
    "##### Em tuplas utilizadas como coleção de registros, a ordem sempre será importante, e a quantidade de itens fixa.\n",
    "##### Nos exemplos, cada posição tem um significado dentro da tupla, mostrando a importância da ordenação."
   ]
  },
  {
   "cell_type": "code",
   "execution_count": null,
   "metadata": {
    "scrolled": true
   },
   "outputs": [],
   "source": [
    "#Exemplo: coordenadas de Brasilia\n",
    "coordenadas = (154646, 475546)\n",
    "\n",
    "#Informações de uma cidade\n",
    "city, year, pop, area = ('Sao Paulo', 2020, 12180000, 11698)\n",
    "\n",
    "#capital dos estados\n",
    "capitais = [('SP', 'São Paulo'), ('MG', 'Belo Horizonte'), ('PI', 'Teresina'), ('RS', 'Porto Alegre')]\n",
    "\n",
    "print(capitais)\n",
    "for itens in capitais:\n",
    "    print('%s - %s' % itens)"
   ]
  },
  {
   "cell_type": "code",
   "execution_count": null,
   "metadata": {},
   "outputs": [],
   "source": [
    "#Exemplo: coordenadas de Brasilia\n",
    "coordenadas = (154646, 475546)"
   ]
  },
  {
   "cell_type": "markdown",
   "metadata": {},
   "source": [
    "### Desempacotamento de tuplas\n",
    "\n",
    "#### Mecanismo de acessar separadamente os itens de uma tupla. Funciona com qualquer objeto iterável\n",
    "##### Requisitos: gerar um item por variável na tupla receptora"
   ]
  },
  {
   "cell_type": "code",
   "execution_count": null,
   "metadata": {},
   "outputs": [],
   "source": [
    "# Exemplos de desempacotamento de tuplas:\n",
    "\n",
    "#1. Atribuição paralela: atribuir itens de um iteravel a uma tupla de variáveis\n",
    "latitude, longitude = coordenadas\n",
    "print(latitude)\n",
    "print(longitude)\n",
    "\n",
    "#Aplicação elegante: trocar os valores de duas variaveis sem usar outra variavel\n",
    "latitude, longitude = longitude, latitude\n",
    "print(latitude)\n",
    "print(longitude)\n",
    "\n",
    "#2. Prefixar um argumento com um * ao chamar uma função - permite que as funções retornem os valores da forma mais conveniente\n",
    "divmod(20, 8)\n",
    "t = (20, 8)\n",
    "divmod(*t)\n",
    "quociente, resto = divmod(*t)\n",
    "quociente, resto\n",
    "\n",
    "#3. Acessar somente partes da tupla, utilizando a variável descartável _\n",
    "\n",
    "capitais = [('SP', 'São Paulo'), ('MG', 'Belo Horizonte'), ('PI', 'Teresina'), ('RS')]\n",
    "\n",
    "#acessar somente os estados:\n",
    "for estados, _ in capitais:\n",
    "    print(estados)\n",
    "    print(_)\n",
    "    \n",
    "#acessar somente as capitais\n",
    "for _, estados in capitais:\n",
    "    print(estados)\n",
    "\n",
    "#Se imprimirmos a variavel _\n",
    "print(_)"
   ]
  },
  {
   "cell_type": "markdown",
   "metadata": {},
   "source": [
    "#### Utilizar * no desempacotamento de tuplas para captar itens excedentes\n",
    "##### Gera mais que um item por variável na tupla receptora \n"
   ]
  },
  {
   "cell_type": "code",
   "execution_count": null,
   "metadata": {},
   "outputs": [],
   "source": [
    "a, b, *resto = range(2)\n",
    "a, b, resto"
   ]
  },
  {
   "cell_type": "code",
   "execution_count": null,
   "metadata": {},
   "outputs": [],
   "source": [
    "a, *resto1, b, c = range(8)\n",
    "a, resto1, b, c"
   ]
  },
  {
   "cell_type": "code",
   "execution_count": null,
   "metadata": {},
   "outputs": [],
   "source": [
    "#Sobre o uso de *: numeros inteiros unicos não são iteraveis - por isso o erro ao tentarmos\n",
    "a, *r = (1)\n",
    "a, r\n",
    "\n"
   ]
  },
  {
   "cell_type": "code",
   "execution_count": null,
   "metadata": {},
   "outputs": [],
   "source": [
    "#Note que o erro nao ocorre com str\n",
    "b, *r2 = ('S')\n",
    "b, r2"
   ]
  },
  {
   "cell_type": "markdown",
   "metadata": {},
   "source": [
    "#### Desempacotamento de tuplas aninhadas\n",
    "#####  Atribuir ao campo desejado uma tupla (nesse caso, o ultimo campo da tupla é outra tupla) "
   ]
  },
  {
   "cell_type": "code",
   "execution_count": null,
   "metadata": {},
   "outputs": [],
   "source": [
    "metro_areas = [('Tokyo', 'JP', 36.933, (35.689722, 139.691667)),\n",
    "               ('Delhi', 'IN', 36.933, (35.689722, 139.691667)),\n",
    "               ('Mexico City', 'MX', 36.933, (35.689722, 139.691667)),\n",
    "               ('New York', 'US', 36.933, (35.689722, 139.691667)),\n",
    "               ('São Paulo', 'BR', 19.649, (-23.5477782, -46.635833)),    \n",
    "]\n",
    "\n",
    "for name, cc, pop, (lat, long) in metro_areas:\n",
    "    print(cc, lat)"
   ]
  },
  {
   "cell_type": "markdown",
   "metadata": {},
   "source": [
    "### Named tuple (função collections.namedtuple)\n",
    "#### Fábrica que gera subclasses de tuplas melhoradas com nomes de campos e um nome de classe\n",
    "#### Usam menos memória que um objeto normal, e a mesma qtde de memória de uma tupla \n",
    "#### Importar usando: from collections import namedtuple"
   ]
  },
  {
   "cell_type": "code",
   "execution_count": null,
   "metadata": {},
   "outputs": [],
   "source": [
    "from collections import namedtuple\n",
    "\n",
    "#Criar um nome de classe e a lista de nomes das variaveis \n",
    "city = namedtuple('City', ('name', 'country', 'pop', 'coord'))\n",
    "tokyo = city('Tokyo', 'JP', 356478, (365748, 859606))\n",
    "tokyo\n",
    "\n",
    "#Criar um nome de classe e as variaveis escritas como uma string delimitada por espaços\n",
    "city = namedtuple('City', 'name country pop coord')\n",
    "tokyo = city('Tokyo', 'JP', 356478, (365748, 859606))\n",
    "tokyo\n",
    "\n",
    "\n",
    "#Os campos podem ser acessados pelo nome ou pela posição:\n",
    "tokyo.pop\n",
    "\n",
    "tokyo[3]\n",
    "\n",
    "#Outros atributos e métodos herdados\n",
    "## Atributo de classe: _fields - tupla com os nomes dos campos da classe\n",
    "tokyo._fields\n",
    "\n",
    "#método de classe: _make(iterable) - permite instanciar uma tupla nomeada a partir de uma classe \n",
    "LatLong = namedtuple('LatLong', 'lat long')\n",
    "delhi_dados = ('Delhi NCR', 'IN', 21935, LatLong(28.12859, 77.203948))\n",
    "delhi = city._make(delhi_dados)\n",
    "\n",
    "    ##Obs: city(*delhi_data) faria o mesmo que make:\n",
    "print(city(*delhi_dados))\n",
    "\n",
    "#método de instância: _asdict() retorna um collections.OrderedDict criado a partir da tupla nomeada\n",
    "delhi._asdict()\n",
    "\n",
    "##obs: poderia ser usado para apresentar os dados de forma mais legivel:\n",
    "for chave, valor in delhi._asdict().items():\n",
    "    print(chave + ':', valor)"
   ]
  },
  {
   "cell_type": "markdown",
   "metadata": {},
   "source": [
    "### Tuplas como listas imutáveis\n",
    "### métodos em comum com as listas: todos que não envolvam remoção ou adição de itens\n"
   ]
  },
  {
   "cell_type": "markdown",
   "metadata": {},
   "source": [
    "#### Concatenação\n",
    "s.__add__(s2) ---> s + s2\n",
    "\n",
    "#### Contem um item:\n",
    "s.__contains__(e) ---> e in s\n",
    "\n",
    "#### Contar as ocorrências de um elemento:\n",
    "s.count(e) \n",
    "\n",
    "#### Obter um item de uma posição:\n",
    "s.__getitem__(p) ---> s[p]\n",
    "\n",
    "#### Suporte para a serialização otimizada com pickle:\n",
    "s.__getnewargs__() \n",
    "\n",
    "#### Encontrar a posição da primeira ocorrência de um item:\n",
    "s.index(e)\n",
    "\n",
    "#### Obter um iterador:\n",
    "s.__iter__() \n",
    "\n",
    "#### Numero de itens da tupla:\n",
    "s.__len__() ---> len(s)\n",
    "\n",
    "#### Concatenação repetida (operador reverso - será visto futuramente):\n",
    "s.__mul__(n) ---> s*n\n"
   ]
  },
  {
   "cell_type": "code",
   "execution_count": null,
   "metadata": {},
   "outputs": [],
   "source": []
  }
 ],
 "metadata": {
  "kernelspec": {
   "display_name": "Python 3",
   "language": "python",
   "name": "python3"
  },
  "language_info": {
   "codemirror_mode": {
    "name": "ipython",
    "version": 3
   },
   "file_extension": ".py",
   "mimetype": "text/x-python",
   "name": "python",
   "nbconvert_exporter": "python",
   "pygments_lexer": "ipython3",
   "version": "3.8.2"
  }
 },
 "nbformat": 4,
 "nbformat_minor": 2
}
