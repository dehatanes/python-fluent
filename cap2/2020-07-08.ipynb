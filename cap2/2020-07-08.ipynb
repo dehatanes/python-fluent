{
 "cells": [
  {
   "cell_type": "markdown",
   "metadata": {},
   "source": [
    "# Capítulo 2 - Uma coleção de sequências\n",
    "#### \"Entender a variedade de sequências disponíveis em Python evita que reinventemos a roda\"\n",
    "\n",
    "**Objetivo do capítulo**: discutir os tipos de sequência prontos para o uso.\n",
    "\n",
    "**Posteriormente**: Criar nossos próprios tipos de sequência 👀\n",
    "\n",
    "---"
   ]
  },
  {
   "cell_type": "markdown",
   "metadata": {},
   "source": [
    "## Sequências simples vs. sequências container\n",
    "\n",
    "**Sequências container**: Podem armazenar dados de tipos diferentes. <br/>\n",
    "-> Armazenam **_referências_** (ponteiros) aos objetos que elas contém. <br/>\n",
    "**Ex:** _list_ , _tuple_ , _collections.deque_\n",
    "\n",
    "**Sequências simples**: Armazenam apenas um tipo de dado. <br/>\n",
    "-> Armazenam **_o valor_** de cada item em seu próprio espaço de memória **e não como objetos distintos**. <br/>\n",
    "-> Por isso são mais compactas, porém isso também as limita ao armazenamento apenas de valores primitivos. <br/>\n",
    "**Ex:** _str_ , _bytes_ , _bytearray_ , _memoryview_ e _array.array_\n",
    "\n",
    "---\n",
    "\n",
    "## Sequências Mutáveis vs Imutáveis\n",
    "\n",
    "**Sequências mutáveis**: <br/>\n",
    "**Ex**: _list_ , _bytearray_ , _array.array_ , _collections.deque_ e _memoryview_\n",
    "\n",
    "**Sequências imutáveis**: <br/>\n",
    "**Ex**: _tuple_ , _str_ e bytes\n",
    "\n",
    "![img](https://raw.githubusercontent.com/fluentpython/images/master/abc-mutableseq-uml.png)\n",
    "\n",
    "Mais sobre o assunto: https://docs.python.org/3/library/collections.abc.html#collections.abc.MutableSequence\n",
    "\n",
    "OBS: `set()` não é uma sequência!!"
   ]
  },
  {
   "cell_type": "code",
   "execution_count": 2,
   "metadata": {},
   "outputs": [
    {
     "name": "stdout",
     "output_type": "stream",
     "text": [
      "Sequencia: batata\n",
      "Tamanho: 6\n",
      "\n",
      " - b\n",
      " - a\n",
      " - t\n",
      " - a\n",
      " - t\n",
      " - a\n",
      "\n",
      "A sequência possui o elemento \"a\".\n",
      "\n",
      "Primeiro item: b\n",
      "\n",
      "Indice de \"a\" na sequencia: 1\n",
      "\n",
      "Contagem de \"a\" na sequencia: 3\n"
     ]
    },
    {
     "ename": "TypeError",
     "evalue": "'str' object does not support item assignment",
     "output_type": "error",
     "traceback": [
      "\u001b[0;31m-------------------------------------------------------------------------\u001b[0m",
      "\u001b[0;31mTypeError\u001b[0m                               Traceback (most recent call last)",
      "\u001b[0;32m<ipython-input-2-cfe8c379ba0e>\u001b[0m in \u001b[0;36m<module>\u001b[0;34m\u001b[0m\n\u001b[1;32m     28\u001b[0m \u001b[0;31m# MÉTODOS DE MUTABLE SEQUENCE DÃO RUIM\u001b[0m\u001b[0;34m\u001b[0m\u001b[0;34m\u001b[0m\u001b[0;34m\u001b[0m\u001b[0m\n\u001b[1;32m     29\u001b[0m \u001b[0;31m# exempo __setitem__ não implementado\u001b[0m\u001b[0;34m\u001b[0m\u001b[0;34m\u001b[0m\u001b[0;34m\u001b[0m\u001b[0m\n\u001b[0;32m---> 30\u001b[0;31m \u001b[0mx\u001b[0m\u001b[0;34m[\u001b[0m\u001b[0;36m0\u001b[0m\u001b[0;34m]\u001b[0m \u001b[0;34m=\u001b[0m \u001b[0;34m'B'\u001b[0m\u001b[0;34m\u001b[0m\u001b[0;34m\u001b[0m\u001b[0m\n\u001b[0m\u001b[1;32m     31\u001b[0m \u001b[0mprint\u001b[0m\u001b[0;34m(\u001b[0m\u001b[0mx\u001b[0m\u001b[0;34m)\u001b[0m\u001b[0;34m\u001b[0m\u001b[0;34m\u001b[0m\u001b[0m\n",
      "\u001b[0;31mTypeError\u001b[0m: 'str' object does not support item assignment"
     ]
    }
   ],
   "source": [
    "# Ex: IMUTAVEL\n",
    "x = \"batata\"\n",
    "print(f'Sequencia: {x}')\n",
    "\n",
    "# Sized -> __len__ implementado\n",
    "tamanho = len(x) \n",
    "print(f'Tamanho: {tamanho}\\n')\n",
    "\n",
    "# Iterable -> __iter__ implementado\n",
    "for letra in x:\n",
    "    print(f' - {letra}')\n",
    "    \n",
    "# Container -> __contains__ implementado\n",
    "if 'a' in x:\n",
    "    print('\\nA sequência possui o elemento \"a\".')\n",
    "else:\n",
    "    print('\\nA sequência não possui o elemento \"a\".')\n",
    "\n",
    "# MÉTODOS DE SEQUENCE\n",
    "# __getitem__ implementado\n",
    "print(f'\\nPrimeiro item: {x[0]}')\n",
    "\n",
    "# index implementado\n",
    "print(f'\\nIndice de \"a\" na sequencia: {x.index(\"a\")}')\n",
    "# count implementado\n",
    "print(f'\\nContagem de \"a\" na sequencia: {x.count(\"a\")}')\n",
    "\n",
    "# MÉTODOS DE MUTABLE SEQUENCE DÃO RUIM\n",
    "# exempo __setitem__ não implementado\n",
    "x[0] = 'B'\n",
    "print(x)"
   ]
  },
  {
   "cell_type": "code",
   "execution_count": 30,
   "metadata": {},
   "outputs": [
    {
     "name": "stdout",
     "output_type": "stream",
     "text": [
      "Sequencia: ['b', 'a', 't', 'a', 't', 'a']\n",
      "Tamanho: 6\n",
      "\n",
      " - b\n",
      " - a\n",
      " - t\n",
      " - a\n",
      " - t\n",
      " - a\n",
      "\n",
      "A sequência possui o elemento \"a\".\n",
      "\n",
      "Primeiro item: b\n",
      "\n",
      "Indice de \"a\" na sequencia: 1\n",
      "\n",
      "Contagem de \"a\" na sequencia: 3\n",
      "\n",
      "Lista com letra trocada:  ['B', 'a', 't', 'a', 't', 'a']\n",
      "Lista com novo item....:  ['B', 'a', 't', 'a', 't', 'a', 23]\n"
     ]
    }
   ],
   "source": [
    "# Ex: MUTAVEL\n",
    "x = ['b', 'a', 't', 'a', 't', 'a']\n",
    "print(f'Sequencia: {x}')\n",
    "\n",
    "# Sized -> __len__ implementado\n",
    "tamanho = len(x) \n",
    "print(f'Tamanho: {tamanho}\\n')\n",
    "\n",
    "# Iterable -> __iter__ implementado\n",
    "for letra in x:\n",
    "    print(f' - {letra}')\n",
    "    \n",
    "# Container -> __contains__ implementado\n",
    "if 'a' in x:\n",
    "    print('\\nA sequência possui o elemento \"a\".')\n",
    "else:\n",
    "    print('\\nA sequência não possui o elemento \"a\".')\n",
    "\n",
    "# MÉTODOS DE SEQUENCE\n",
    "# __getitem__ implementado\n",
    "print(f'\\nPrimeiro item: {x[0]}')\n",
    "\n",
    "# index implementado\n",
    "print(f'\\nIndice de \"a\" na sequencia: {x.index(\"a\")}')\n",
    "# count implementado\n",
    "print(f'\\nContagem de \"a\" na sequencia: {x.count(\"a\")}')\n",
    "\n",
    "# MÉTODOS DE MUTABLE SEQUENCE\n",
    "# __setitem__ implementado\n",
    "x[0] = 'B'\n",
    "print('\\nLista com letra trocada: ', x)\n",
    "\n",
    "# append implementado\n",
    "x.append(23)\n",
    "print('Lista com novo item....: ',x)"
   ]
  },
  {
   "cell_type": "markdown",
   "metadata": {},
   "source": [
    "## List Comprehensions (listcomps)\n",
    "\n",
    "#### Expressões que facilitam escrever um código bem limpo que pode ser lido quase como linguagem natural.\n",
    "\n",
    "\"Um laço `for` pode ser usado para realizar várias tarefas diferentes [...] Em comparação, a sintaxe de _listcomp_ foi concebida com um único propósito: criar uma nova lista.\" - **Pag 47**\n",
    "\n",
    "Ps: Se você não vai fazer nada com a lista gerada, não utilize essa sintaxe...\n",
    "\n",
    "Use seu bom censo para manter sua _listcomp_ clara."
   ]
  },
  {
   "cell_type": "code",
   "execution_count": 32,
   "metadata": {},
   "outputs": [
    {
     "name": "stdout",
     "output_type": "stream",
     "text": [
      "[1, 2, 3, 4]\n",
      "['1', '2', '3', '4']\n"
     ]
    }
   ],
   "source": [
    "# Criando uma lista a partir de outra com for\n",
    "lista = [1, 2, 3, 4]\n",
    "new_list = []\n",
    "\n",
    "for item in lista:\n",
    "    new_list.append(str(item))\n",
    "\n",
    "print(lista)\n",
    "print(new_list)"
   ]
  },
  {
   "cell_type": "code",
   "execution_count": 33,
   "metadata": {},
   "outputs": [
    {
     "name": "stdout",
     "output_type": "stream",
     "text": [
      "[1, 2, 3, 4]\n",
      "['1', '2', '3', '4']\n"
     ]
    }
   ],
   "source": [
    "# Mesmo código usando listcomp\n",
    "lista = [1, 2, 3, 4]\n",
    "new_list = [str(item) for item in lista]\n",
    "\n",
    "print(lista)\n",
    "print(new_list)"
   ]
  },
  {
   "cell_type": "code",
   "execution_count": 34,
   "metadata": {},
   "outputs": [
    {
     "name": "stdout",
     "output_type": "stream",
     "text": [
      "[0, 1, 2, 3, 4, 5, 6, 7, 8, 9]\n",
      "tomate\n"
     ]
    }
   ],
   "source": [
    "# PS: as variáveis dentro de liscomps funcionam como vars. de escopo de uma função\n",
    "x = \"tomate\"\n",
    "lista = [x for x in range(10)]\n",
    "print(lista)\n",
    "print(x) # o valor inicial de x não foi afetado"
   ]
  },
  {
   "cell_type": "code",
   "execution_count": 39,
   "metadata": {
    "scrolled": true
   },
   "outputs": [
    {
     "name": "stdout",
     "output_type": "stream",
     "text": [
      "Pares...: [2, 4, 6]\n",
      "Imapres.: [1, 3, 5, 7]\n"
     ]
    }
   ],
   "source": [
    "# possível de usá-las para filtro !!\n",
    "numbers = [1,2,3,4,5,6,7]\n",
    "evens = [z for z in numbers if z % 2 is 0]\n",
    "odds = [y for y in numbers if y not in evens]\n",
    "\n",
    "print(\"Pares...:\", evens)\n",
    "print(\"Imapres.:\", odds)"
   ]
  },
  {
   "cell_type": "code",
   "execution_count": 42,
   "metadata": {},
   "outputs": [
    {
     "name": "stdout",
     "output_type": "stream",
     "text": [
      "[['preto', 1], ['preto', 2], ['preto', 3], ['vermelho', 1], ['vermelho', 2], ['vermelho', 3]]\n",
      "[['preto', 1], ['vermelho', 1], ['preto', 2], ['vermelho', 2], ['preto', 3], ['vermelho', 3]]\n"
     ]
    }
   ],
   "source": [
    "# TRABALHANDO COM MATRIZES - iterando em duas listas diferentes p/ criar uma matriz\n",
    "cores = ['preto', 'vermelho']\n",
    "numeros = [1, 2, 3]\n",
    "\n",
    "# usando um for normal\n",
    "lista = []\n",
    "for cor in cores:\n",
    "    for numero in numeros:\n",
    "        lista.append([cor, numero])\n",
    "\n",
    "# equivalente em listcomps\n",
    "lista = [[cor, numero] for cor in cores for numero in numeros]\n",
    "print(lista)\n",
    "\n",
    "# funciona mas com um resultado diferente do for normal que criamos\n",
    "lista = [[cor, numero] for numero in numeros for cor in cores]\n",
    "print(lista)"
   ]
  },
  {
   "cell_type": "code",
   "execution_count": 44,
   "metadata": {},
   "outputs": [
    {
     "name": "stdout",
     "output_type": "stream",
     "text": [
      "[1, 2, 3, 4, 5, 6, 7, 8, 9]\n"
     ]
    }
   ],
   "source": [
    "# TRABALHANDO COM MATRIZES - iterando por uma matriz p/ transformar em uma lista simples\n",
    "lista_de_listas = [[1,2,3], \n",
    "                   [4,5,6], \n",
    "                   [7,8,9]]\n",
    "\n",
    "# usando um for normal\n",
    "new_list = []\n",
    "for listinha in lista_de_listas:\n",
    "    for numero in listinha:\n",
    "        new_list.append(numero)\n",
    "\n",
    "# equivalente em listcomps\n",
    "lista_final = [numero for listinha in lista_de_listas for numero in listinha]\n",
    "print(lista_final)"
   ]
  },
  {
   "cell_type": "markdown",
   "metadata": {},
   "source": [
    "## Expressões geradoras (genexps)\n",
    "#### Economizam memória pois geram itens um por um em vez de criar uma lista completa de cara.\n",
    "\n",
    "Utilizam a mesma sintaxe da listcomps, porém são delimitadas por parênteses `()` e não colchetes `[]`."
   ]
  },
  {
   "cell_type": "code",
   "execution_count": 45,
   "metadata": {},
   "outputs": [
    {
     "name": "stdout",
     "output_type": "stream",
     "text": [
      "Listcomp.:  [0, 1, 2, 3, 4]\n",
      "Genexp...:  <generator object <genexpr> at 0x1187a1de0>\n"
     ]
    }
   ],
   "source": [
    "# Retornam coisas diferentes\n",
    "listcomp = [x for x in range(5)]\n",
    "genexp = (x for x in range(5))\n",
    "\n",
    "print('Listcomp.: ', listcomp)\n",
    "print('Genexp...: ', genexp)"
   ]
  },
  {
   "cell_type": "code",
   "execution_count": 58,
   "metadata": {},
   "outputs": [
    {
     "name": "stdout",
     "output_type": "stream",
     "text": [
      "0 1 2 3 4 \n",
      "---------------\n",
      "0 1 2 3 4 "
     ]
    }
   ],
   "source": [
    "# Mas aparentam trazer o mesmo resultado quando iteradas (só aparentam)\n",
    "listcomp = [x for x in range(5)]\n",
    "genexp = (x for x in range(5))\n",
    "\n",
    "for item in listcomp:\n",
    "    print(item, end=' ')\n",
    "\n",
    "print('\\n---------------')\n",
    "\n",
    "for item in genexp:\n",
    "    print(item, end=' ')"
   ]
  },
  {
   "cell_type": "code",
   "execution_count": 60,
   "metadata": {},
   "outputs": [
    {
     "data": {
      "text/plain": [
       "[0, 1, 2, 3, 4]"
      ]
     },
     "execution_count": 60,
     "metadata": {},
     "output_type": "execute_result"
    }
   ],
   "source": [
    "# PS: se uma genexp for o unico parametro em uma função não é necessário duplicar os parentesis\n",
    "list(x for x in range(5))"
   ]
  },
  {
   "cell_type": "code",
   "execution_count": 63,
   "metadata": {},
   "outputs": [
    {
     "name": "stdout",
     "output_type": "stream",
     "text": [
      "0 1 2 3 4 \n",
      "FIM\n"
     ]
    }
   ],
   "source": [
    "# E depois de iterada ela tem que ser RECONSTRUÍDA para funcionar novamente\n",
    "genexp = (x for x in range(5))\n",
    "\n",
    "for item in genexp:\n",
    "    print(item, end=' ')\n",
    "    \n",
    "for item in genexp:\n",
    "    print(\"Nem entra nesse for porque a genexp está esgotada.\")\n",
    "    print(item, end=' ')\n",
    "    \n",
    "print(\"\\nFIM\")"
   ]
  },
  {
   "cell_type": "markdown",
   "metadata": {},
   "source": [
    "## Genexp vs listcomps"
   ]
  },
  {
   "cell_type": "code",
   "execution_count": 64,
   "metadata": {},
   "outputs": [],
   "source": [
    "def wait_to_create(number):\n",
    "    input(f'{number} - press ENTER to continue: ')\n",
    "    return number"
   ]
  },
  {
   "cell_type": "code",
   "execution_count": 66,
   "metadata": {},
   "outputs": [
    {
     "name": "stdout",
     "output_type": "stream",
     "text": [
      "LISTCOMPS\n",
      "\n",
      "0 - press ENTER to continue: \n",
      "1 - press ENTER to continue: \n",
      "2 - press ENTER to continue: \n",
      "3 - press ENTER to continue: \n",
      "4 - press ENTER to continue: \n",
      "0\n",
      "1\n",
      "2\n",
      "3\n",
      "4\n"
     ]
    }
   ],
   "source": [
    "print(\"LISTCOMPS\\n\")\n",
    "normal_list = [wait_to_create(x) for x in range(5)]\n",
    "for x in normal_list:\n",
    "    print(x)"
   ]
  },
  {
   "cell_type": "code",
   "execution_count": 67,
   "metadata": {},
   "outputs": [
    {
     "name": "stdout",
     "output_type": "stream",
     "text": [
      "GENEXP\n",
      "\n",
      "0 - press ENTER to continue: \n",
      "0\n",
      "1 - press ENTER to continue: \n",
      "1\n",
      "2 - press ENTER to continue: \n",
      "2\n",
      "3 - press ENTER to continue: \n",
      "3\n",
      "4 - press ENTER to continue: \n",
      "4\n"
     ]
    }
   ],
   "source": [
    "print(\"GENEXP\\n\")\n",
    "\n",
    "lazy_list = (wait_to_create(x) for x in range(5))\n",
    "for x in lazy_list:\n",
    "    print(x)"
   ]
  }
 ],
 "metadata": {
  "kernelspec": {
   "display_name": "Python 3",
   "language": "python",
   "name": "python3"
  },
  "language_info": {
   "codemirror_mode": {
    "name": "ipython",
    "version": 3
   },
   "file_extension": ".py",
   "mimetype": "text/x-python",
   "name": "python",
   "nbconvert_exporter": "python",
   "pygments_lexer": "ipython3",
   "version": "3.8.2"
  }
 },
 "nbformat": 4,
 "nbformat_minor": 4
}
